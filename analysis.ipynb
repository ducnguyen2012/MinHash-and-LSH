{
 "cells": [
  {
   "cell_type": "code",
   "execution_count": 57,
   "metadata": {},
   "outputs": [],
   "source": [
    "import os\n",
    "import pickle\n",
    "import pickle\n",
    "from heapq import heapify,heappop,heappush\n",
    "import random"
   ]
  },
  {
   "cell_type": "markdown",
   "metadata": {},
   "source": [
    "### bien doi txt ban dau thanh cac shingle roi save pickle"
   ]
  },
  {
   "cell_type": "code",
   "execution_count": 58,
   "metadata": {},
   "outputs": [],
   "source": [
    "#! extract data and data understanding\n",
    "FolderPath = os.path.abspath(\"test\")\n",
    "\n",
    "#! check files in folder:\n",
    "allFiles = os.listdir(FolderPath)\n",
    "filePathList = [FolderPath + \"/\" + i for i in allFiles]\n",
    "# filePathList\n"
   ]
  },
  {
   "cell_type": "code",
   "execution_count": 59,
   "metadata": {},
   "outputs": [],
   "source": []
  },
  {
   "cell_type": "code",
   "execution_count": 60,
   "metadata": {},
   "outputs": [],
   "source": [
    "\n",
    "#! check xem trong moi file co bao nhieu tu? \n",
    "cnt = 0\n",
    "for file in filePathList:\n",
    "    f = open(file,\"r\")\n",
    "    words = f.read().split(\" \")\n",
    "    #print(len(words))\n",
    "\n",
    "    temp = set()\n",
    "    \n",
    "    for index in range(0, len(words) - 2):\n",
    "        #! shingle duoc chia thanh cac tu voi len = 3\n",
    "        #! vd: This is my shingle: the first successful\n",
    "        shingle = words[index] + \" \" + words[index+1] + \" \" \\\n",
    "        + words[index+2]\n",
    "        if shingle not in shingleDict.keys():\n",
    "            #! cac shingle phai unique \n",
    "            shingleDict[shingle] = cnt\n",
    "            cnt += 1\n",
    "        temp.add(shingleDict[shingle])\n",
    "        \n",
    "    docShingleDict[file.split(\"/\")[-1].split(\".\")[0]] = temp\n",
    "    \n",
    "\n"
   ]
  },
  {
   "cell_type": "code",
   "execution_count": 61,
   "metadata": {},
   "outputs": [],
   "source": [
    "# docShingleDict[\"file40\"]"
   ]
  },
  {
   "cell_type": "markdown",
   "metadata": {},
   "source": [
    "### SAVE PICKLE"
   ]
  },
  {
   "cell_type": "code",
   "execution_count": 62,
   "metadata": {},
   "outputs": [],
   "source": [
    "# print(len(shingleDict))\n",
    "# output = open(\"docShingleDict.pkl\", 'wb')\n",
    "# pickle.dump(docShingleDict, output)\n",
    "# output.close()"
   ]
  },
  {
   "cell_type": "markdown",
   "metadata": {},
   "source": [
    "### MINHASH"
   ]
  },
  {
   "cell_type": "markdown",
   "metadata": {},
   "source": [
    "#### unpickle de lay shingle"
   ]
  },
  {
   "cell_type": "code",
   "execution_count": 63,
   "metadata": {},
   "outputs": [],
   "source": [
    "totalShingles = 23880 \n",
    "pklHandler = open(\"docShingleDict.pkl\", 'rb')\n",
    "docShingleDict= pickle.load(pklHandler)\n",
    "pklHandler.close()"
   ]
  },
  {
   "cell_type": "code",
   "execution_count": 64,
   "metadata": {},
   "outputs": [],
   "source": [
    "#! muc tieu luc nay la convert characteristic matrix ve signature matrix\n",
    "def findRandomNos(k):\n",
    "  '''\n",
    "  return a list of k random unique int\n",
    "  '''\n",
    "  randList = []\n",
    "  randIndex = random.randint(0, totalShingles -1) \n",
    "  randList.append(randIndex) \n",
    "\n",
    "  while k>0:\n",
    "    while randIndex in randList: #! dam bao rang \n",
    "      randIndex = random.randint(0, totalShingles-1) \n",
    "    \n",
    "    randList.append(randIndex)\n",
    "    k = k-1\n",
    "  return randList\n",
    "\n",
    "#! NUMBER OF ROW IN SIGNATURE MATRIX IS 25\n",
    "randomNoA = findRandomNos(25)\n",
    "randomNoB = findRandomNos(25)\n",
    "\n",
    "#! THIS IS SIGNATURE MATRIX\n",
    "docLowestShingleID = {} \n",
    "for doc in docShingleDict.keys():\n",
    "  \n",
    "  shingleIDSet = docShingleDict[doc]\n",
    "\n",
    "  \n",
    "  lowestShingleID = []\n",
    "  for x in range(0,25):\n",
    "    listFx = [] \n",
    "    for shingleID in shingleIDSet:\n",
    "      hashValue = (randomNoA[x] * shingleID + randomNoB[x]) % totalShingles #! THIS IS MY HASH FUNCTION!\n",
    "      listFx.append(hashValue)\n",
    "    heapify(listFx) \n",
    "    lowestShingleID.append(heappop(listFx)) \n",
    "  docLowestShingleID[doc] = lowestShingleID \n",
    "  #! luc nay docLowestShingleID se co value la hash function min nhat. \n",
    "  '''\n",
    "                        | file00 | file01 | file02 | ... \n",
    "number1(unique shingle) | (hashValue)\n",
    "--------------------------------------------------------\n",
    "number2(unique single)  |\n",
    "--------------------------------------------------------\n",
    "  '''\n",
    "\n",
    "def getFileNo(x):\n",
    "  if x<10:\n",
    "    x = \"0\" + str(x)\n",
    "  else:\n",
    "    x = str(x)\n",
    "  \n",
    "  return x"
   ]
  },
  {
   "cell_type": "code",
   "execution_count": 65,
   "metadata": {},
   "outputs": [],
   "source": [
    "estimateMatrix = []\n",
    "for x in range(0,100):\n",
    "  doc1 = \"file\"+getFileNo(x)\n",
    "  doc1LowestShingles = docLowestShingleID[doc1] #! we can call doc1LowestShingles is minhash signature\n",
    "  col = []\n",
    "  for y in range(0,100):\n",
    "    doc2 = \"file\"+getFileNo(y)\n",
    "    doc2LowestShingles = docLowestShingleID[doc2]\n",
    "    count = 0\n",
    "    for i in range(0,25):\n",
    "      #! track number of value minHash signature equal\n",
    "      if doc1LowestShingles[i] == doc2LowestShingles[i]:\n",
    "        count = count + 1\n",
    "        \n",
    "    col.append(count/25)\n",
    "  estimateMatrix.append(col)"
   ]
  },
  {
   "cell_type": "code",
   "execution_count": 66,
   "metadata": {},
   "outputs": [
    {
     "name": "stdout",
     "output_type": "stream",
     "text": [
      "\n",
      "List of Documents with J(d1,d2) more than 0.5\n",
      "d1: file01 and d2: file75\n",
      "J(d1,d2): 0.8\n",
      "Jaccard coefficient:  0.8928571428571429\n",
      "d1: file02 and d2: file76\n",
      "J(d1,d2): 0.96\n",
      "Jaccard coefficient:  0.9471153846153846\n",
      "d1: file03 and d2: file87\n",
      "J(d1,d2): 0.88\n",
      "Jaccard coefficient:  0.9831932773109243\n",
      "d1: file09 and d2: file64\n",
      "J(d1,d2): 0.84\n",
      "Jaccard coefficient:  0.7886740331491713\n",
      "d1: file14 and d2: file88\n",
      "J(d1,d2): 0.88\n",
      "Jaccard coefficient:  0.9165354330708662\n",
      "d1: file18 and d2: file99\n",
      "J(d1,d2): 1.0\n",
      "Jaccard coefficient:  0.9204152249134948\n",
      "d1: file23 and d2: file51\n",
      "J(d1,d2): 1.0\n",
      "Jaccard coefficient:  0.9543057996485061\n",
      "d1: file25 and d2: file40\n",
      "J(d1,d2): 0.92\n",
      "Jaccard coefficient:  0.96\n",
      "d1: file32 and d2: file52\n",
      "J(d1,d2): 0.96\n",
      "Jaccard coefficient:  0.9531502423263328\n",
      "d1: file34 and d2: file63\n",
      "J(d1,d2): 0.96\n",
      "Jaccard coefficient:  0.9702276707530648\n",
      "d1: file40 and d2: file25\n",
      "J(d1,d2): 0.92\n",
      "Jaccard coefficient:  0.96\n"
     ]
    }
   ],
   "source": [
    "estimateMatrix = []\n",
    "for x in range(0,100):\n",
    "  doc1 = \"file\"+getFileNo(x)\n",
    "  doc1LowestShingles = docLowestShingleID[doc1] #! we can call doc1LowestShingles is minhash signature\n",
    "  col = []\n",
    "  for y in range(0,100):\n",
    "    doc2 = \"file\"+getFileNo(y)\n",
    "    doc2LowestShingles = docLowestShingleID[doc2]\n",
    "    count = 0\n",
    "    for i in range(0,25):\n",
    "      #! track number of value minHash signature equal\n",
    "      if doc1LowestShingles[i] == doc2LowestShingles[i]:\n",
    "        count = count + 1\n",
    "        \n",
    "    col.append(count/25)\n",
    "  estimateMatrix.append(col)\n",
    "\n",
    "#print(\"This is my estimateMatrix: {}\".format(estimateMatrix))\n",
    "  \n",
    "print (\"\\nList of Documents with J(d1,d2) more than 0.5\")\n",
    "for x in range(0,50):\n",
    "  file1 = \"file\" + getFileNo(x)\n",
    "  for y in range(0,100):\n",
    "    if estimateMatrix[x][y] > 0.5:\n",
    "      file2 = \"file\" + getFileNo(y)\n",
    "      if file1 != file2:\n",
    "        shinglesSet1 = docShingleDict[file1]\n",
    "        shinglesSet2 = docShingleDict[file2]\n",
    "        print (\"d1: \" + file1 + \" and d2: \" + file2)\n",
    "        print (\"J(d1,d2): \" + str(estimateMatrix[x][y])\t)\n",
    "        jaccard = (len(shinglesSet1.intersection(shinglesSet2)) / len(shinglesSet1.union(shinglesSet2)))\n",
    "        print (\"Jaccard coefficient: \", str(jaccard))\n",
    "        #print \n",
    "\n",
    "\n",
    "    "
   ]
  },
  {
   "cell_type": "code",
   "execution_count": null,
   "metadata": {},
   "outputs": [
    {
     "name": "stdout",
     "output_type": "stream",
     "text": [
      "Three nearest neighbors for the first 10 files\n",
      "\n",
      "file00:\n",
      "file26\n",
      "file19\n",
      "file12\n",
      "\n",
      "file01:\n",
      "file75\n",
      "file27\n",
      "file20\n",
      "\n",
      "file02:\n",
      "file76\n",
      "file28\n",
      "file21\n",
      "\n",
      "file03:\n",
      "file87\n",
      "file16\n",
      "file29\n",
      "\n",
      "file04:\n",
      "file17\n",
      "file23\n",
      "file31\n",
      "\n",
      "file05:\n",
      "file18\n",
      "file99\n",
      "file78\n",
      "\n",
      "file06:\n",
      "file19\n",
      "file26\n",
      "file33\n",
      "\n",
      "file07:\n",
      "file20\n",
      "file34\n",
      "file63\n",
      "\n",
      "file08:\n",
      "file28\n",
      "file21\n",
      "file35\n",
      "\n",
      "file09:\n",
      "file64\n",
      "file70\n",
      "file22\n"
     ]
    }
   ],
   "source": [
    "docJaccard = {}\n",
    "\n",
    "def pop(jaccardList):\n",
    "  estimatedJaccardC, fileX = heappop(jaccardList)\n",
    "  print (fileX)\n",
    "\n",
    "print( \"Three nearest neighbors for the first 10 files\")\n",
    "\n",
    "for x in range(0,10):\n",
    "  file1 = \"file\" + getFileNo(x)\n",
    "  estimatedJaccardList = []\n",
    "  for y in range(0,100):\n",
    "    file2 = \"file\" + getFileNo(y)\n",
    "    if file1 != file2:\n",
    "      heappush(estimatedJaccardList, (-estimateMatrix[x][y], file2))\n",
    "  \n",
    "  #print estimatedJaccardList\n",
    "  print (\"\\n\" + file1 + \":\")\n",
    "  for x in range(0,3):\n",
    "    pop(estimatedJaccardList)"
   ]
  }
 ],
 "metadata": {
  "kernelspec": {
   "display_name": "Python 3",
   "language": "python",
   "name": "python3"
  },
  "language_info": {
   "codemirror_mode": {
    "name": "ipython",
    "version": 3
   },
   "file_extension": ".py",
   "mimetype": "text/x-python",
   "name": "python",
   "nbconvert_exporter": "python",
   "pygments_lexer": "ipython3",
   "version": "3.10.12"
  }
 },
 "nbformat": 4,
 "nbformat_minor": 2
}
